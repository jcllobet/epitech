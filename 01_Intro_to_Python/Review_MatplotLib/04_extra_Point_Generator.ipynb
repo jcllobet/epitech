{
 "cells": [
  {
   "cell_type": "code",
   "execution_count": 1,
   "metadata": {
    "colab": {},
    "colab_type": "code",
    "id": "yHO21AWIaxKr"
   },
   "outputs": [],
   "source": [
    "import numpy as np\n",
    "import matplotlib.pyplot as plt\n",
    "import math"
   ]
  },
  {
   "cell_type": "code",
   "execution_count": 2,
   "metadata": {
    "colab": {},
    "colab_type": "code",
    "id": "mk30raB6a2BC"
   },
   "outputs": [],
   "source": [
    "def generate_points(n=100, mu=0, std=1):\n",
    "  return (np.random.randn(n) * std) + mu"
   ]
  },
  {
   "cell_type": "code",
   "execution_count": 3,
   "metadata": {
    "colab": {
     "base_uri": "https://localhost:8080/",
     "height": 364
    },
    "colab_type": "code",
    "executionInfo": {
     "elapsed": 371,
     "status": "ok",
     "timestamp": 1548779523650,
     "user": {
      "displayName": "Alberto López",
      "photoUrl": "",
      "userId": "13612524106654675145"
     },
     "user_tz": -60
    },
    "id": "xFRyYsyZbDZ8",
    "outputId": "6804506a-356f-49fe-b4fd-b9091c318de4"
   },
   "outputs": [
    {
     "data": {
      "text/plain": [
       "array([ 1.02940334e+00, -2.79842330e-01,  7.30481485e-02, -1.31745544e-01,\n",
       "        1.67327448e-01, -1.51437229e-01, -4.26695838e-02,  9.06350543e-01,\n",
       "        2.21907217e-01,  9.13228446e-01, -2.43901878e-01,  5.08862567e-01,\n",
       "        1.55792492e+00, -1.82738970e-01, -2.65550889e+00,  3.49443230e-01,\n",
       "       -1.79518014e-01,  1.69825827e+00, -1.94868222e+00, -1.42207843e+00,\n",
       "       -1.05707875e+00,  4.33489691e-01, -4.44121797e-01, -1.48119441e+00,\n",
       "       -4.06932827e-01, -8.03236501e-01,  1.70682751e+00, -1.24062767e+00,\n",
       "        5.31371551e-02,  3.52087513e-01,  2.78344647e-01,  1.24272338e-01,\n",
       "       -9.63393129e-01, -1.39012243e+00,  5.97826489e-01,  1.48966062e+00,\n",
       "       -4.10252804e-01,  5.62900939e-01,  9.21816985e-01, -1.14537925e+00,\n",
       "        2.69712948e-01, -1.31349737e-01, -1.92260531e-01, -1.12128482e+00,\n",
       "        5.48656014e-01, -3.50483650e-01,  2.04305892e+00,  7.99809945e-01,\n",
       "        3.09283703e-01,  1.35451729e+00,  1.53966348e+00, -1.92216885e+00,\n",
       "       -2.15170426e-01,  5.30718860e-02, -3.31574565e-01,  2.63392391e-01,\n",
       "        2.48517617e-01,  5.12699937e-01,  1.53993466e+00, -1.22054781e+00,\n",
       "       -1.70770303e+00, -1.67874109e+00, -3.67097505e-01, -4.73990406e-01,\n",
       "        4.97993181e-02,  9.95976437e-01,  1.75100088e+00, -1.90987575e+00,\n",
       "        1.49412843e+00, -1.47205126e+00, -6.40158711e-01, -1.56121971e-03,\n",
       "       -4.46633347e-01,  7.44579688e-01, -7.43940375e-01,  7.02639537e-01,\n",
       "        2.32139383e-01,  4.08453046e-01,  4.00692033e-01,  1.13824550e+00,\n",
       "        3.90764264e-01,  4.91697182e-01,  1.90154861e+00,  8.94941979e-01,\n",
       "        1.24997479e+00,  5.88174633e-02,  2.59087564e-01, -2.51476013e+00,\n",
       "       -1.36791433e+00, -3.21200225e-01, -1.29997264e+00,  2.66124742e+00,\n",
       "        7.57864869e-01, -5.24163681e-01, -3.01421133e-01,  1.54507803e+00,\n",
       "       -1.47615560e-02, -1.05580864e-01, -2.67488060e-01, -3.85827551e-01])"
      ]
     },
     "execution_count": 3,
     "metadata": {},
     "output_type": "execute_result"
    }
   ],
   "source": [
    "generate_points()"
   ]
  },
  {
   "cell_type": "code",
   "execution_count": 4,
   "metadata": {
    "colab": {
     "base_uri": "https://localhost:8080/",
     "height": 368
    },
    "colab_type": "code",
    "executionInfo": {
     "elapsed": 591,
     "status": "ok",
     "timestamp": 1548779543386,
     "user": {
      "displayName": "Alberto López",
      "photoUrl": "",
      "userId": "13612524106654675145"
     },
     "user_tz": -60
    },
    "id": "HQD2OYE7bEvx",
    "outputId": "96fe724b-9a62-4c48-b09f-000fce6da7f8"
   },
   "outputs": [
    {
     "data": {
      "text/plain": [
       "<matplotlib.collections.PathCollection at 0x7f63f49f4630>"
      ]
     },
     "execution_count": 4,
     "metadata": {},
     "output_type": "execute_result"
    },
    {
     "data": {
      "image/png": "[encoded data removed]",
      "text/plain": [
       "<Figure size 432x288 with 1 Axes>"
      ]
     },
     "metadata": {
      "needs_background": "light"
     },
     "output_type": "display_data"
    }
   ],
   "source": [
    "x = generate_points()\n",
    "y = generate_points()\n",
    "\n",
    "x2 = generate_points(n=100, mu=10, std=4)\n",
    "y2 = generate_points(n=100, mu=10, std=1)\n",
    "\n",
    "plt.scatter(x, y)\n",
    "plt.scatter(x2, y2)"
   ]
  },
  {
   "cell_type": "code",
   "execution_count": 5,
   "metadata": {
    "colab": {},
    "colab_type": "code",
    "id": "vnQ_ky3wbmf-"
   },
   "outputs": [],
   "source": [
    "def rotate(x,y, a):\n",
    "        a = math.radians(a)\n",
    "        a_p = math.atan2(x,y)\n",
    "        #print(math.degrees(a_p))\n",
    "\n",
    "        m = math.hypot(x,y)\n",
    "        x_r = m*math.cos(a + a_p)\n",
    "        y_r = m*math.sin(a + a_p)\n",
    "\n",
    "        return x_r, y_r\n"
   ]
  },
  {
   "cell_type": "code",
   "execution_count": 6,
   "metadata": {
    "colab": {},
    "colab_type": "code",
    "id": "wWIQrN_CbPtE"
   },
   "outputs": [],
   "source": [
    "def rotate_cloud(xl, yl, angle, mu):\n",
    "  rx = []\n",
    "  ry = []\n",
    "  for i in range(len(xl)):\n",
    "    xr, yr = rotate(xl[i]-mu, yl[i]-mu, angle)\n",
    "    rx.append(xr+mu)\n",
    "    ry.append(yr+mu)\n",
    "  return rx, ry"
   ]
  },
  {
   "cell_type": "code",
   "execution_count": 7,
   "metadata": {
    "colab": {},
    "colab_type": "code",
    "id": "O4C9n9DMcDeq"
   },
   "outputs": [],
   "source": [
    "x2, y2 = rotate_cloud(x2,y2, 45, 5)"
   ]
  },
  {
   "cell_type": "code",
   "execution_count": 8,
   "metadata": {
    "colab": {
     "base_uri": "https://localhost:8080/",
     "height": 364
    },
    "colab_type": "code",
    "executionInfo": {
     "elapsed": 617,
     "status": "ok",
     "timestamp": 1548779914606,
     "user": {
      "displayName": "Alberto López",
      "photoUrl": "",
      "userId": "13612524106654675145"
     },
     "user_tz": -60
    },
    "id": "1HdeDqDhcJgV",
    "outputId": "6c956948-13c0-4c50-fa8c-46253f7e1410"
   },
   "outputs": [
    {
     "data": {
      "text/plain": [
       "<matplotlib.collections.PathCollection at 0x7f63f4988ef0>"
      ]
     },
     "execution_count": 8,
     "metadata": {},
     "output_type": "execute_result"
    },
    {
     "data": {
      "image/png": "[encoded data removed]",
      "text/plain": [
       "<Figure size 432x288 with 1 Axes>"
      ]
     },
     "metadata": {
      "needs_background": "light"
     },
     "output_type": "display_data"
    }
   ],
   "source": [
    "plt.scatter(x, y)\n",
    "plt.scatter(x2, y2)"
   ]
  }
 ],
 "metadata": {
  "colab": {
   "name": "Point Generator.ipynb",
   "provenance": [],
   "version": "0.3.2"
  },
  "kernelspec": {
   "display_name": "Python 3",
   "language": "python",
   "name": "python3"
  },
  "language_info": {
   "codemirror_mode": {
    "name": "ipython",
    "version": 3
   },
   "file_extension": ".py",
   "mimetype": "text/x-python",
   "name": "python",
   "nbconvert_exporter": "python",
   "pygments_lexer": "ipython3",
   "version": "3.7.1"
  }
 },
 "nbformat": 4,
 "nbformat_minor": 1
}
