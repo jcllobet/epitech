{
 "cells": [
  {
   "cell_type": "code",
   "execution_count": 0,
   "metadata": {
    "colab": {},
    "colab_type": "code",
    "id": "yHO21AWIaxKr"
   },
   "outputs": [],
   "source": [
    "import numpy as np\n",
    "import matplotlib.pyplot as plt\n",
    "import math"
   ]
  },
  {
   "cell_type": "code",
   "execution_count": 0,
   "metadata": {
    "colab": {},
    "colab_type": "code",
    "id": "mk30raB6a2BC"
   },
   "outputs": [],
   "source": [
    "def generate_points(n=100, mu=0, std=1):\n",
    "  return (np.random.randn(n) * std) + mu"
   ]
  },
  {
   "cell_type": "code",
   "execution_count": 144,
   "metadata": {
    "colab": {
     "base_uri": "https://localhost:8080/",
     "height": 364
    },
    "colab_type": "code",
    "executionInfo": {
     "elapsed": 371,
     "status": "ok",
     "timestamp": 1548779523650,
     "user": {
      "displayName": "Alberto López",
      "photoUrl": "",
      "userId": "13612524106654675145"
     },
     "user_tz": -60
    },
    "id": "xFRyYsyZbDZ8",
    "outputId": "6804506a-356f-49fe-b4fd-b9091c318de4"
   },
   "outputs": [
    {
     "data": {
      "text/plain": [
       "array([-1.29037069, -0.97060844,  0.14370415, -0.18957859,  0.24178414,\n",
       "       -0.7985851 , -1.25213916,  1.25708935, -0.56222719,  0.39980893,\n",
       "       -1.86325397, -0.08282719,  1.15684586, -0.80442001, -0.43059824,\n",
       "        0.00497304, -0.46725604, -0.21407678,  0.63221581, -0.68115043,\n",
       "        0.77019673,  0.04932219, -0.49353192, -1.03373428, -2.12295756,\n",
       "       -0.25409933,  0.69019062, -1.42769615,  3.29376435, -0.22814609,\n",
       "        1.1721362 , -0.07858608,  1.63788241, -0.91768304, -0.15267287,\n",
       "        1.15349375,  1.32163016, -0.30526186,  1.08316129,  1.69260193,\n",
       "       -1.77049825, -0.12087826,  0.27060088, -2.20455155, -0.69939955,\n",
       "        0.82874569,  1.5168433 ,  0.3357975 , -0.57962153, -0.21113566,\n",
       "       -1.13303418,  0.2207913 , -0.4184365 ,  0.49938206, -0.17158417,\n",
       "       -0.26935183, -0.95703007, -1.75363927,  1.25207345,  0.98754556,\n",
       "       -0.0241546 ,  1.42226192,  1.24825995, -1.4187973 , -1.87076608,\n",
       "       -1.59734676, -0.12504864, -1.58337455, -0.92432017, -1.4317767 ,\n",
       "        0.58306805, -1.48130711, -0.01616354, -0.46074334,  0.4620828 ,\n",
       "        0.37238466, -0.65775587, -1.39561157, -0.71527996,  0.48526876,\n",
       "       -0.95120724,  0.46144562,  0.50637028,  1.76253004, -0.34856249,\n",
       "        0.55680162, -0.53720586,  0.70213907,  0.07643427, -0.13121317,\n",
       "        1.00796239,  1.61557802,  0.70069339,  0.35761681,  0.92826915,\n",
       "       -1.09104969,  1.495958  ,  1.18830363, -0.0479028 ,  0.06828967])"
      ]
     },
     "execution_count": 144,
     "metadata": {
      "tags": []
     },
     "output_type": "execute_result"
    }
   ],
   "source": [
    "generate_points()"
   ]
  },
  {
   "cell_type": "code",
   "execution_count": 147,
   "metadata": {
    "colab": {
     "base_uri": "https://localhost:8080/",
     "height": 368
    },
    "colab_type": "code",
    "executionInfo": {
     "elapsed": 591,
     "status": "ok",
     "timestamp": 1548779543386,
     "user": {
      "displayName": "Alberto López",
      "photoUrl": "",
      "userId": "13612524106654675145"
     },
     "user_tz": -60
    },
    "id": "HQD2OYE7bEvx",
    "outputId": "96fe724b-9a62-4c48-b09f-000fce6da7f8"
   },
   "outputs": [
    {
     "data": {
      "text/plain": [
       "<matplotlib.collections.PathCollection at 0x7f842bf58ba8>"
      ]
     },
     "execution_count": 147,
     "metadata": {
      "tags": []
     },
     "output_type": "execute_result"
    },
    {
     "data": {
      "image/png": "[encoded data removed]",
      "text/plain": [
       "<Figure size 576x396 with 1 Axes>"
      ]
     },
     "metadata": {
      "tags": []
     },
     "output_type": "display_data"
    }
   ],
   "source": [
    "x = generate_points()\n",
    "y = generate_points()\n",
    "\n",
    "x2 = generate_points(n=100, mu=10, std=4)\n",
    "y2 = generate_points(n=100, mu=10, std=1)\n",
    "\n",
    "plt.scatter(x, y)\n",
    "plt.scatter(x2, y2)"
   ]
  },
  {
   "cell_type": "code",
   "execution_count": 0,
   "metadata": {
    "colab": {},
    "colab_type": "code",
    "id": "vnQ_ky3wbmf-"
   },
   "outputs": [],
   "source": [
    "def rotate(x,y, a):\n",
    "        a = math.radians(a)\n",
    "        a_p = math.atan2(x,y)\n",
    "        #print(math.degrees(a_p))\n",
    "\n",
    "        m = math.hypot(x,y)\n",
    "        x_r = m*math.cos(a + a_p)\n",
    "        y_r = m*math.sin(a + a_p)\n",
    "\n",
    "        return x_r, y_r\n"
   ]
  },
  {
   "cell_type": "code",
   "execution_count": 0,
   "metadata": {
    "colab": {},
    "colab_type": "code",
    "id": "wWIQrN_CbPtE"
   },
   "outputs": [],
   "source": [
    "def rotate_cloud(xl, yl, angle, mu):\n",
    "  rx = []\n",
    "  ry = []\n",
    "  for i in range(len(xl)):\n",
    "    xr, yr = rotate(xl[i]-mu, yl[i]-mu, angle)\n",
    "    rx.append(xr+mu)\n",
    "    ry.append(yr+mu)\n",
    "  return rx, ry"
   ]
  },
  {
   "cell_type": "code",
   "execution_count": 0,
   "metadata": {
    "colab": {},
    "colab_type": "code",
    "id": "O4C9n9DMcDeq"
   },
   "outputs": [],
   "source": [
    "x2, y2 = rotate_cloud(x2,y2, 45, 5)"
   ]
  },
  {
   "cell_type": "code",
   "execution_count": 154,
   "metadata": {
    "colab": {
     "base_uri": "https://localhost:8080/",
     "height": 364
    },
    "colab_type": "code",
    "executionInfo": {
     "elapsed": 617,
     "status": "ok",
     "timestamp": 1548779914606,
     "user": {
      "displayName": "Alberto López",
      "photoUrl": "",
      "userId": "13612524106654675145"
     },
     "user_tz": -60
    },
    "id": "1HdeDqDhcJgV",
    "outputId": "6c956948-13c0-4c50-fa8c-46253f7e1410"
   },
   "outputs": [
    {
     "data": {
      "text/plain": [
       "<matplotlib.collections.PathCollection at 0x7f842bd8d160>"
      ]
     },
     "execution_count": 154,
     "metadata": {
      "tags": []
     },
     "output_type": "execute_result"
    },
    {
     "data": {
      "image/png": "[encoded data removed]",
      "text/plain": [
       "<Figure size 576x396 with 1 Axes>"
      ]
     },
     "metadata": {
      "tags": []
     },
     "output_type": "display_data"
    }
   ],
   "source": [
    "plt.scatter(x, y)\n",
    "plt.scatter(x2, y2)"
   ]
  },
  {
   "cell_type": "code",
   "execution_count": 0,
   "metadata": {
    "colab": {},
    "colab_type": "code",
    "id": "xC4GFBdCcThe"
   },
   "outputs": [],
   "source": []
  }
 ],
 "metadata": {
  "colab": {
   "name": "Point Generator.ipynb",
   "provenance": [],
   "version": "0.3.2"
  },
  "kernelspec": {
   "display_name": "Python 3",
   "language": "python",
   "name": "python3"
  },
  "language_info": {
   "codemirror_mode": {
    "name": "ipython",
    "version": 3
   },
   "file_extension": ".py",
   "mimetype": "text/x-python",
   "name": "python",
   "nbconvert_exporter": "python",
   "pygments_lexer": "ipython3",
   "version": "3.7.1"
  }
 },
 "nbformat": 4,
 "nbformat_minor": 1
}
