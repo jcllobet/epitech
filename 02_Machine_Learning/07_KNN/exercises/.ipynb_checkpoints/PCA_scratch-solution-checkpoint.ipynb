{
 "cells": [
  {
   "cell_type": "markdown",
   "metadata": {},
   "source": [
    "# Implement PCA from scratch\n",
    "\n",
    "In the following notebook I will ask you to implement PCA from scratch. Assuming `X` is a multidimensional array containing the whole dataset The PCA algorithm goes as follows. \n",
    "\n",
    "## Fiting Part\n",
    "1. Substract from X its mean in a feature wise fashion.\n",
    "2. Calculate the covariance matrix (numpy)\n",
    "3. Calculate the eigenvalues and eigenvectors od the covariance matrix (numpy)  \n",
    "\n",
    "## Transforming Part\n",
    "1. Choose the target dimensions N.\n",
    "2. Transform the dataset.\n",
    "    - Sort eigenvectors and eigenvalues by eigenvalues size and pick the first N eigenvectors V\n",
    "    - Perform a dot (np.dot) product between the matrix formed by V and X    "
   ]
  },
  {
   "cell_type": "code",
   "execution_count": 1,
   "metadata": {},
   "outputs": [],
   "source": [
    "class PCA(object):\n",
    "    def __init__(self, num_components):\n",
    "        self.num_components = num_components\n",
    "        self.eigen_values = None\n",
    "        self.eigen_vectors = None\n",
    "    \n",
    "    def fit(self, X):\n",
    "        cov = np.cov((X - X.mean()).T)\n",
    "        val, vec = np.linalg.eig(cov)\n",
    "        self.eigen_vectors = np.array([\n",
    "            vector\n",
    "            for _, vector in sorted(\n",
    "                zip(val, vec), reverse=True, key=lambda x: x[0]\n",
    "            )\n",
    "        ])\n",
    "        self.eigen_values = np.array(sorted(val, reverse=True))\n",
    "        return self\n",
    "    \n",
    "    def __get_transformation_matrix(self):\n",
    "        return self.eigen_vectors[:self.num_components]\n",
    "        \n",
    "    \n",
    "    def transform(self, X):\n",
    "        w = self.__get_transformation_matrix()\n",
    "        return w.dot((X - X.mean()).T)"
   ]
  },
  {
   "cell_type": "code",
   "execution_count": 2,
   "metadata": {},
   "outputs": [],
   "source": [
    "import sklearn\n",
    "import matplotlib.pyplot as plt\n",
    "import numpy as np"
   ]
  },
  {
   "cell_type": "markdown",
   "metadata": {},
   "source": [
    "## See how your implementation works\n",
    "\n",
    "\n",
    "We are going to work with the iris dataset to create a 2D representation of this dataset"
   ]
  },
  {
   "cell_type": "code",
   "execution_count": 3,
   "metadata": {},
   "outputs": [],
   "source": [
    "from sklearn import datasets\n",
    "X = datasets.load_iris()['data']\n",
    "y = datasets.load_iris()['target']"
   ]
  },
  {
   "cell_type": "markdown",
   "metadata": {},
   "source": [
    "Plot the number of dimensions of the dataset"
   ]
  },
  {
   "cell_type": "code",
   "execution_count": 4,
   "metadata": {},
   "outputs": [
    {
     "data": {
      "text/plain": [
       "4"
      ]
     },
     "execution_count": 4,
     "metadata": {},
     "output_type": "execute_result"
    }
   ],
   "source": [
    "# Your code here\n",
    "X.shape[1]"
   ]
  },
  {
   "cell_type": "markdown",
   "metadata": {},
   "source": [
    "Perform the transformation of your dataset into 2D"
   ]
  },
  {
   "cell_type": "code",
   "execution_count": 5,
   "metadata": {},
   "outputs": [
    {
     "data": {
      "text/plain": [
       "(2, 150)"
      ]
     },
     "execution_count": 5,
     "metadata": {},
     "output_type": "execute_result"
    }
   ],
   "source": [
    "# Your code here\n",
    "pca = PCA(2).fit(X)\n",
    "transformed_X = pca.transform(X)\n",
    "transformed_X.shape"
   ]
  },
  {
   "cell_type": "markdown",
   "metadata": {},
   "source": [
    "Plot your transformed dataset"
   ]
  },
  {
   "cell_type": "code",
   "execution_count": 6,
   "metadata": {},
   "outputs": [
    {
     "data": {
      "text/plain": [
       "<matplotlib.collections.PathCollection at 0x7feaa3d12e80>"
      ]
     },
     "execution_count": 6,
     "metadata": {},
     "output_type": "execute_result"
    },
    {
     "data": {
      "image/png": "[encoded data removed]",
      "text/plain": [
       "<Figure size 432x288 with 1 Axes>"
      ]
     },
     "metadata": {
      "needs_background": "light"
     },
     "output_type": "display_data"
    }
   ],
   "source": [
    "# Your code here\n",
    "plt.scatter(*transformed_X)"
   ]
  },
  {
   "cell_type": "markdown",
   "metadata": {},
   "source": [
    "## Compare the results of sklearn to yours"
   ]
  },
  {
   "cell_type": "markdown",
   "metadata": {},
   "source": [
    "Transform the data with sklearn PCA"
   ]
  },
  {
   "cell_type": "code",
   "execution_count": 7,
   "metadata": {},
   "outputs": [
    {
     "data": {
      "text/plain": [
       "(150, 2)"
      ]
     },
     "execution_count": 7,
     "metadata": {},
     "output_type": "execute_result"
    }
   ],
   "source": [
    "from sklearn.decomposition import PCA as skPCA\n",
    "\n",
    "# Your code here\n",
    "pca = skPCA(2).fit(X)\n",
    "sk_transformed_X = pca.transform(X)\n",
    "sk_transformed_X.shape"
   ]
  },
  {
   "cell_type": "markdown",
   "metadata": {},
   "source": [
    "Perform a plot side by size of both transformations, yours and sklearns"
   ]
  },
  {
   "cell_type": "code",
   "execution_count": 8,
   "metadata": {},
   "outputs": [
    {
     "data": {
      "text/plain": [
       "<matplotlib.collections.PathCollection at 0x7fea9f342278>"
      ]
     },
     "execution_count": 8,
     "metadata": {},
     "output_type": "execute_result"
    },
    {
     "data": {
      "image/png": "[encoded data removed]",
      "text/plain": [
       "<Figure size 432x288 with 2 Axes>"
      ]
     },
     "metadata": {
      "needs_background": "light"
     },
     "output_type": "display_data"
    }
   ],
   "source": [
    "# Your code here\n",
    "plt.subplot(1,2,1)\n",
    "plt.scatter(*transformed_X)\n",
    "plt.subplot(1,2,2)\n",
    "plt.scatter(*sk_transformed_X.T)"
   ]
  },
  {
   "cell_type": "markdown",
   "metadata": {},
   "source": [
    "## Compare your PCA to sklearn LDA"
   ]
  },
  {
   "cell_type": "markdown",
   "metadata": {},
   "source": [
    "Transform the data with sklearn LDA"
   ]
  },
  {
   "cell_type": "code",
   "execution_count": 9,
   "metadata": {},
   "outputs": [
    {
     "data": {
      "text/plain": [
       "(150, 2)"
      ]
     },
     "execution_count": 9,
     "metadata": {},
     "output_type": "execute_result"
    }
   ],
   "source": [
    "from sklearn.discriminant_analysis import LinearDiscriminantAnalysis as LDA\n",
    "\n",
    "#Your code here\n",
    "lda = LDA().fit(X, y)\n",
    "sk_transformed_X = lda.transform(X)\n",
    "sk_transformed_X.shape"
   ]
  },
  {
   "cell_type": "markdown",
   "metadata": {},
   "source": [
    "Perform a plot side by size of both transformations, yours and sklearns"
   ]
  },
  {
   "cell_type": "code",
   "execution_count": 10,
   "metadata": {},
   "outputs": [
    {
     "data": {
      "text/plain": [
       "<matplotlib.collections.PathCollection at 0x7fea9f29a400>"
      ]
     },
     "execution_count": 10,
     "metadata": {},
     "output_type": "execute_result"
    },
    {
     "data": {
      "image/png": "[encoded data removed]",
      "text/plain": [
       "<Figure size 432x288 with 2 Axes>"
      ]
     },
     "metadata": {
      "needs_background": "light"
     },
     "output_type": "display_data"
    }
   ],
   "source": [
    "# Your code here\n",
    "plt.subplot(1,2,1)\n",
    "plt.scatter(*transformed_X)\n",
    "plt.subplot(1,2,2)\n",
    "plt.scatter(*sk_transformed_X.T)"
   ]
  }
 ],
 "metadata": {
  "kernelspec": {
   "display_name": "Python 3",
   "language": "python",
   "name": "python3"
  },
  "language_info": {
   "codemirror_mode": {
    "name": "ipython",
    "version": 3
   },
   "file_extension": ".py",
   "mimetype": "text/x-python",
   "name": "python",
   "nbconvert_exporter": "python",
   "pygments_lexer": "ipython3",
   "version": "3.7.2"
  }
 },
 "nbformat": 4,
 "nbformat_minor": 2
}
