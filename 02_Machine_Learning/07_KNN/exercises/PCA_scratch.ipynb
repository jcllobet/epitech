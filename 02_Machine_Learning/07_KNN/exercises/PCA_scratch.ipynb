{
 "cells": [
  {
   "cell_type": "markdown",
   "metadata": {},
   "source": [
    "# Implement PCA from scratch\n",
    "\n",
    "In the following notebook I will ask you to implement PCA from scratch. Assuming `X` is a multidimensional array containing the whole dataset The PCA algorithm goes as follows. \n",
    "\n",
    "## Fiting Part\n",
    "1. Substract from X its mean in a feature wise fashion.\n",
    "2. Calculate the covariance matrix (numpy)\n",
    "3. Calculate the eigenvalues and eigenvectors od the covariance matrix (numpy)  \n",
    "\n",
    "## Transforming Part\n",
    "1. Choose the target dimensions N.\n",
    "2. Transform the dataset.\n",
    "    - Sort eigenvectors and eigenvalues by eigenvalues size and pick the first N eigenvectors V\n",
    "    - Perform a dot (np.dot) product between the matrix formed by V and X    "
   ]
  },
  {
   "cell_type": "code",
   "execution_count": null,
   "metadata": {},
   "outputs": [],
   "source": [
    "class PCA(object):\n",
    "    def __init__(self, num_components):\n",
    "        self.num_components = num_components\n",
    "        self.eigen_values = None\n",
    "        self.eigen_vectors = None\n",
    "    \n",
    "    def fit(self, X):\n",
    "        raise NotImplementedError(\n",
    "            \"You should give an implementation with the algorithm in the\\\n",
    "            fitting part (Calculate the eigen values/vectors).\"\n",
    "        )\n",
    "    \n",
    "    def transform(self):\n",
    "        raise NotImplementedError(\n",
    "            \"You should give an implementation with the algorithm in the\\\n",
    "            transforming part.\"\n",
    "        )"
   ]
  },
  {
   "cell_type": "code",
   "execution_count": null,
   "metadata": {},
   "outputs": [],
   "source": [
    "import sklearn\n",
    "import matplotlib.pyplot as plt\n",
    "import numpy as np"
   ]
  },
  {
   "cell_type": "markdown",
   "metadata": {},
   "source": [
    "## See how your implementation works\n",
    "\n",
    "\n",
    "We are going to work with the iris dataset to create a 2D representation of this dataset"
   ]
  },
  {
   "cell_type": "code",
   "execution_count": null,
   "metadata": {},
   "outputs": [],
   "source": [
    "from sklearn import datasets\n",
    "X = datasets.load_iris()['data']\n",
    "y = datasets.load_iris()['target']"
   ]
  },
  {
   "cell_type": "markdown",
   "metadata": {},
   "source": [
    "Plot the number of dimensions of the dataset"
   ]
  },
  {
   "cell_type": "code",
   "execution_count": null,
   "metadata": {},
   "outputs": [],
   "source": [
    "# Your code here"
   ]
  },
  {
   "cell_type": "markdown",
   "metadata": {},
   "source": [
    "Perform the transformation of your dataset into 2D"
   ]
  },
  {
   "cell_type": "code",
   "execution_count": null,
   "metadata": {},
   "outputs": [],
   "source": [
    "# Your code here"
   ]
  },
  {
   "cell_type": "markdown",
   "metadata": {},
   "source": [
    "Plot your transformed dataset"
   ]
  },
  {
   "cell_type": "code",
   "execution_count": null,
   "metadata": {},
   "outputs": [],
   "source": [
    "# Your code here"
   ]
  },
  {
   "cell_type": "markdown",
   "metadata": {},
   "source": [
    "## Compare the results of sklearn to yours"
   ]
  },
  {
   "cell_type": "markdown",
   "metadata": {},
   "source": [
    "Transform the data with sklearn PCA"
   ]
  },
  {
   "cell_type": "code",
   "execution_count": null,
   "metadata": {},
   "outputs": [],
   "source": [
    "from sklearn.decomposition import PCA as skPCA\n",
    "\n",
    "# Your code here"
   ]
  },
  {
   "cell_type": "markdown",
   "metadata": {},
   "source": [
    "Perform a plot side by size of both transformations, yours and sklearns"
   ]
  },
  {
   "cell_type": "code",
   "execution_count": null,
   "metadata": {},
   "outputs": [],
   "source": [
    "# Your code here"
   ]
  },
  {
   "cell_type": "markdown",
   "metadata": {},
   "source": [
    "## Compare your PCA to sklearn LDA"
   ]
  },
  {
   "cell_type": "markdown",
   "metadata": {},
   "source": [
    "Transform the data with sklearn LDA"
   ]
  },
  {
   "cell_type": "code",
   "execution_count": null,
   "metadata": {},
   "outputs": [],
   "source": [
    "from sklearn.discriminant_analysis import LinearClassifierMixin as LDA\n",
    "\n",
    "#Your code here"
   ]
  },
  {
   "cell_type": "markdown",
   "metadata": {},
   "source": [
    "Perform a plot side by size of both transformations, yours and sklearns"
   ]
  },
  {
   "cell_type": "code",
   "execution_count": null,
   "metadata": {},
   "outputs": [],
   "source": [
    "# Your code here"
   ]
  }
 ],
 "metadata": {
  "kernelspec": {
   "display_name": "Python 3",
   "language": "python",
   "name": "python3"
  },
  "language_info": {
   "codemirror_mode": {
    "name": "ipython",
    "version": 3
   },
   "file_extension": ".py",
   "mimetype": "text/x-python",
   "name": "python",
   "nbconvert_exporter": "python",
   "pygments_lexer": "ipython3",
   "version": "3.7.2"
  }
 },
 "nbformat": 4,
 "nbformat_minor": 2
}
