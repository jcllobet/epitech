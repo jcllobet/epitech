{
 "cells": [
  {
   "cell_type": "code",
   "execution_count": 2,
   "metadata": {
    "collapsed": true
   },
   "outputs": [],
   "source": [
    "#Dependencies\n",
    "import numpy as np"
   ]
  },
  {
   "cell_type": "code",
   "execution_count": 8,
   "metadata": {},
   "outputs": [],
   "source": [
    "#Input data -  binary numbers for each integer from 0 to 256\n",
    "int_to_binary = {}\n",
    "binary_dim = 8\n",
    "max_val = (2**binary_dim) #2^8 = 256\n",
    "binary_val = np.unpackbits(np.array([range(max_val)], dtype=\"uint8\").T, axis=1) # Calc Binary\n",
    "for i in range(max_val):\n",
    "    int_to_binary[i] = binary_val[i]"
   ]
  },
  {
   "cell_type": "code",
   "execution_count": 9,
   "metadata": {
    "collapsed": true
   },
   "outputs": [],
   "source": [
    "#Sigmoid Activation Function\n",
    "def activate(x, deriv=False):\n",
    "    if (deriv==True):\n",
    "        return x*(1-x)\n",
    "    return 1/(1+np.exp(-x))"
   ]
  },
  {
   "cell_type": "code",
   "execution_count": null,
   "metadata": {
    "collapsed": true
   },
   "outputs": [],
   "source": [
    "#Hyperparamters\n",
    "\n",
    "inputLayerSize = 2\n",
    "HiddenLayerSize = 16\n",
    "outputLayerSize = 1\n",
    "\n",
    "# 3 weight values\n",
    "Weights_1 = 2 * np.random.random((inputLayerSize, HiddenLayerSize)) - 1\n",
    "Weights_2 = 2 * np.random.random((HiddenLayerSize, outputLayerSize)) - 1\n",
    "Weights_hidden = 2 * np.random.random((HiddenLayerSize, HiddenLayerSize)) - 1\n",
    "\n",
    "#Initialized Updated Wight Values\n",
    "W1_update = np.zeros_like(Weights_1)\n",
    "W2_update = np.zeros_like(Weights_2)\n",
    "W_hidden_update = np.zeros_like(Weights_hidden)\n",
    "\n",
    "#Compute the sum of two integers\n",
    "for j in range(10000):\n",
    "    \n",
    "    #a + b = c random values\n",
    "    a_int = np.random.randint(max_val/2)\n",
    "    b_int = np.random.randint(max_val/2)\n",
    "    c_int = a_int + b_int\n",
    "    \n",
    "    #Get binary values for a, b , & c\n",
    "    a = int_to_binary[a_int]\n",
    "    b = int_to_binary[b_int]\n",
    "    c = int_to_binary[c_int]\n",
    "    \n",
    "    #Save predicted Binary Inputs\n",
    "    d = np.zeros_like(c)\n",
    "    \n",
    "    #Initialized Error\n",
    "    OverallError = 0\n",
    "    \n",
    "    # Store output gradients & hidden layer values\n",
    "    output_layer_gradients = list()\n",
    "    hidden_layer_values = list()\n",
    "    hidden_layer_values.append(np.zeros(HiddenLayerSize)) # init as 0\n",
    "    \n",
    "    #Forward propagation to compute the sum of two 8 digit long binary integers\n",
    "    for position in range(binary_dim):\n",
    "        \n",
    "        #Input - binary values of a & b\n",
    "        X = np.array([[a[binary_dim - position - 1], b[binary_dim - position - 1]]])\n",
    "        \n",
    "        #output - the sum c\n",
    "        y = np.array([[c[binary_dim - position - 1]]]).T\n",
    "        \n",
    "        #Calculate the error\n",
    "        layer_1 = activate(np.dot(X, Weights_1) + np.dot(hidden_layer_values[-1], Weights_hidden))\n",
    "        layer_2 = activate(np.dot(layer_1, Weights_2))\n",
    "        output_error = y - layer_2\n",
    "        \n",
    "        #Save the error gradients at each step as it will be propagated back\n",
    "        output_layer_gradients\n",
    "    \n",
    "    "
   ]
  }
 ],
 "metadata": {
  "kernelspec": {
   "display_name": "Python 3",
   "language": "python",
   "name": "python3"
  },
  "language_info": {
   "codemirror_mode": {
    "name": "ipython",
    "version": 3
   },
   "file_extension": ".py",
   "mimetype": "text/x-python",
   "name": "python",
   "nbconvert_exporter": "python",
   "pygments_lexer": "ipython3",
   "version": "3.6.1"
  }
 },
 "nbformat": 4,
 "nbformat_minor": 2
}
