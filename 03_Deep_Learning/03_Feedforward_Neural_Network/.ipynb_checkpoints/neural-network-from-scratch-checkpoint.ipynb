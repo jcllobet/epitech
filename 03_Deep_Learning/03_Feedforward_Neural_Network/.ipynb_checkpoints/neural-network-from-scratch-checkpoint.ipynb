{
 "cells": [
  {
   "cell_type": "code",
   "execution_count": 1,
   "metadata": {},
   "outputs": [],
   "source": [
    "import numpy as np #linear algebra"
   ]
  },
  {
   "cell_type": "code",
   "execution_count": 2,
   "metadata": {},
   "outputs": [],
   "source": [
    "#Input Data\n",
    "input_data = np.array([[0, 0, 1], [1, 1, 1], [1, 0, 1], [0, 1, 1]])\n",
    "output_labels = np.array([[0, 1, 1, 0]]).T"
   ]
  },
  {
   "cell_type": "code",
   "execution_count": 3,
   "metadata": {},
   "outputs": [
    {
     "name": "stdout",
     "output_type": "stream",
     "text": [
      "[[0 0 1]\n",
      " [1 1 1]\n",
      " [1 0 1]\n",
      " [0 1 1]]\n",
      "[[0]\n",
      " [1]\n",
      " [1]\n",
      " [0]]\n"
     ]
    }
   ],
   "source": [
    "print(input_data)\n",
    "print(output_labels)"
   ]
  },
  {
   "cell_type": "code",
   "execution_count": 4,
   "metadata": {},
   "outputs": [],
   "source": [
    "def activate(x, deriv=False):\n",
    "    if (deriv==True):\n",
    "        return(x*(1-x))\n",
    "    return 1/(1+np.exp(-x))"
   ]
  },
  {
   "cell_type": "code",
   "execution_count": 5,
   "metadata": {},
   "outputs": [
    {
     "name": "stdout",
     "output_type": "stream",
     "text": [
      "[[-0.24792957]\n",
      " [-0.6313369 ]\n",
      " [-0.07005504]]\n"
     ]
    }
   ],
   "source": [
    "#weight matrix\n",
    "synaptic_weights = 2 * np.random.random((3, 1)) - 1\n",
    "\n",
    "print(synaptic_weights)"
   ]
  },
  {
   "cell_type": "code",
   "execution_count": 6,
   "metadata": {},
   "outputs": [
    {
     "data": {
      "text/plain": [
       "array([[0.4824934 ],\n",
       "       [0.27902129],\n",
       "       [0.42116699],\n",
       "       [0.33150369]])"
      ]
     },
     "execution_count": 6,
     "metadata": {},
     "output_type": "execute_result"
    }
   ],
   "source": [
    "output = activate(np.dot(input_data, synaptic_weights))\n",
    "\n",
    "##This is our first guess\n",
    "output"
   ]
  },
  {
   "cell_type": "code",
   "execution_count": 7,
   "metadata": {},
   "outputs": [],
   "source": [
    "error = output_labels - output"
   ]
  },
  {
   "cell_type": "code",
   "execution_count": 8,
   "metadata": {},
   "outputs": [],
   "source": [
    "#example of iteration of training\n",
    "for iteration in range(10000):\n",
    "    output = activate(np.dot(input_data, synaptic_weights))\n",
    "    error = output_labels - output\n",
    "    synaptic_weights += np.dot(input_data.T, error * activate(output, True))"
   ]
  },
  {
   "cell_type": "code",
   "execution_count": 9,
   "metadata": {},
   "outputs": [
    {
     "name": "stdout",
     "output_type": "stream",
     "text": [
      "[0.99993703]\n"
     ]
    }
   ],
   "source": [
    "#testing example\n",
    "print(activate(np.dot(np.array([1, 0, 0]), synaptic_weights)))\n",
    "#Will be approximetly 1 which is close to the 1st element"
   ]
  },
  {
   "cell_type": "code",
   "execution_count": 10,
   "metadata": {},
   "outputs": [],
   "source": [
    "#2 weight values, 1 for each output layer that is used as an input layer in the neural network\n",
    "synaptic_weight_for_layer_0 = 2*np.random.random((3, 4)) - 1\n",
    "synaptic_weight_for_layer_1 = 2*np.random.random((4, 1)) - 1"
   ]
  },
  {
   "cell_type": "code",
   "execution_count": 11,
   "metadata": {},
   "outputs": [
    {
     "name": "stdout",
     "output_type": "stream",
     "text": [
      "[[-0.08707105  0.53452642 -0.52117272  0.49706256]\n",
      " [ 0.62991805 -0.96146833 -0.24736981  0.8921926 ]\n",
      " [-0.54322291  0.1491424  -0.8011148  -0.68446407]]\n",
      "[[-0.94441304]\n",
      " [-0.18394497]\n",
      " [ 0.36109137]\n",
      " [-0.29559361]]\n"
     ]
    }
   ],
   "source": [
    "print(synaptic_weight_for_layer_0)\n",
    "print(synaptic_weight_for_layer_1)"
   ]
  },
  {
   "cell_type": "code",
   "execution_count": 12,
   "metadata": {
    "scrolled": true
   },
   "outputs": [
    {
     "name": "stdout",
     "output_type": "stream",
     "text": [
      "Error: 0.508305915435185\n",
      "Error: 0.004928346115703539\n",
      "Error: 0.003399225860150824\n",
      "Error: 0.002740528268066949\n",
      "Error: 0.002353730249328505\n",
      "Error: 0.00209242243008475\n",
      "Error: 0.0019009798351409782\n",
      "Error: 0.0017530734237314854\n",
      "Error: 0.0016344312578668028\n",
      "Error: 0.001536563805883935\n"
     ]
    }
   ],
   "source": [
    "#Real Training!\n",
    "for j in range(100000):\n",
    "    \n",
    "    #Forward Propagation through the network layers 0, 1, & 2\n",
    "    network_layer_0 = input_data\n",
    "    # 4, 3\n",
    "    network_layer_1 = activate(np.dot(network_layer_0, synaptic_weight_for_layer_0))\n",
    "    #4, 4                                #4,3               #3,4\n",
    "    network_layer_2 = activate(np.dot(network_layer_1, synaptic_weight_for_layer_1))\n",
    "    #4,1                                 #4,4               #4,1\n",
    "    \n",
    "    #calculate the error for network_layer_2\n",
    "    network_layer_2_error = output_labels - network_layer_2\n",
    "    #4,1                        #4,1            #4,1\n",
    "    \n",
    "    if j % 10000 == 0:\n",
    "        print(\"Error: \" + str(np.mean(np.abs(network_layer_2_error))))\n",
    "        \n",
    "    #Use the network_layer_2_error to compute the gradient to start backpropagation\n",
    "    layer_2_gradient = network_layer_2_error * activate(network_layer_2, deriv=True)\n",
    "    #4,1                    #4,1                  #4,1\n",
    "    \n",
    "    #calculate the error for network_layer_1\n",
    "    network_layer_1_error = layer_2_gradient.dot(synaptic_weight_for_layer_1.T)\n",
    "    #4,4                      #4,1                  #1,4\n",
    "    \n",
    "    #Use the network_layer_1_error to compute the gradient for network_layer_1\n",
    "    layer_1_gradient = network_layer_1_error * activate(network_layer_1, deriv=True)\n",
    "    #4,4                  #4,4                      #4,4\n",
    "    \n",
    "    #Update the synaptic weights using the gradients\n",
    "    synaptic_weight_for_layer_1 += network_layer_1.T.dot(layer_2_gradient)\n",
    "    #4,1                              #4,4                 #4,1\n",
    "    synaptic_weight_for_layer_0 += network_layer_0.T.dot(layer_1_gradient)\n",
    "    #3,4                              #4,3                 #4,4\n",
    "    "
   ]
  },
  {
   "cell_type": "code",
   "execution_count": 51,
   "metadata": {},
   "outputs": [
    {
     "name": "stdout",
     "output_type": "stream",
     "text": [
      "Error: 0.50308912846\n",
      "Error: 0.00460415404965\n",
      "Error: 0.00317985865615\n",
      "Error: 0.00256693045279\n",
      "Error: 0.0022068654229\n",
      "Error: 0.00196347469691\n",
      "Error: 0.00178505381013\n",
      "Error: 0.00164713202629\n",
      "Error: 0.00153644312365\n",
      "Error: 0.00144509411104\n"
     ]
    }
   ],
   "source": [
    "synaptic_weight_for_layer_0 = 2*np.random.random((3, 4)) - 1\n",
    "synaptic_weight_for_layer_1 = 2*np.random.random((4, 4)) - 1\n",
    "synaptic_weight_for_layer_2 = 2*np.random.random((4, 1)) - 1\n",
    "#Real Training!\n",
    "for j in range(100000):\n",
    "    \n",
    "    #Forward Propagation through the network layers 0, 1, & 2\n",
    "    network_layer_0 = input_data\n",
    "            # 4, 3\n",
    "    network_layer_1 = activate(np.dot(network_layer_0, synaptic_weight_for_layer_0))\n",
    "            #4,4           #             4,3              3, 4   \n",
    "    network_layer_2 = activate(np.dot(network_layer_1, synaptic_weight_for_layer_1))\n",
    "            #4, 4            #              4, 4             5, 4  \n",
    "    network_layer_3 = activate(np.dot(network_layer_2, synaptic_weight_for_layer_2))\n",
    "             #4, 1          #               4 ,  4             4, 1\n",
    "    \n",
    "    network_layer_3_error = output_labels - network_layer_3\n",
    "    \n",
    "    layer_3_gradient = network_layer_3_error * activate(network_layer_3, deriv=True)\n",
    "    \n",
    "    #calculate the error for network_layer_2\n",
    "    network_layer_2_error = layer_3_gradient.dot(synaptic_weight_for_layer_2.T)\n",
    "    \n",
    "    if j % 10000 == 0:\n",
    "        print(\"Error: \" + str(np.mean(np.abs(network_layer_3_error))))\n",
    "        \n",
    "    #Use the network_layer_2_error to compute the gradient to start backpropagation\n",
    "    layer_2_gradient = network_layer_2_error * activate(network_layer_2, deriv=True)\n",
    "    \n",
    "    #calculate the error for network_layer_1\n",
    "    network_layer_1_error = layer_2_gradient.dot(synaptic_weight_for_layer_1.T)\n",
    "    \n",
    "    #Use the network_layer_1_error to compute the gradient for network_layer_1\n",
    "    layer_1_gradient = network_layer_1_error * activate(network_layer_1, deriv=True)\n",
    "    \n",
    "    #Update the synaptic weights using the gradients\n",
    "    synaptic_weight_for_layer_2 += network_layer_2.T.dot(layer_3_gradient)\n",
    "    synaptic_weight_for_layer_1 += network_layer_1.T.dot(layer_2_gradient)\n",
    "    synaptic_weight_for_layer_0 += network_layer_0.T.dot(layer_1_gradient)\n",
    "    \n",
    "    "
   ]
  },
  {
   "cell_type": "code",
   "execution_count": 41,
   "metadata": {},
   "outputs": [
    {
     "name": "stdout",
     "output_type": "stream",
     "text": [
      "[-2.58362455 -1.48740034 -1.99122825  1.44716657 -2.19739673]\n"
     ]
    }
   ],
   "source": [
    "# Real testing!\n",
    "print(np.dot(np.array([0, 0, 1]), synaptic_weight_for_layer_0))"
   ]
  },
  {
   "cell_type": "code",
   "execution_count": 28,
   "metadata": {},
   "outputs": [
    {
     "data": {
      "text/plain": [
       "array([[ 0.00679732],\n",
       "       [ 0.99445537],\n",
       "       [ 0.99548489],\n",
       "       [ 0.0055365 ]])"
      ]
     },
     "execution_count": 28,
     "metadata": {},
     "output_type": "execute_result"
    }
   ],
   "source": [
    "# Real testing!\n",
    "input_data2 = np.array([[0, 0, 1], [1, 1, 1], [1, 0, 1], [0, 1, 1]])\n",
    "output = activate(np.dot(input_data2, synaptic_weights))\n",
    "output"
   ]
  },
  {
   "cell_type": "code",
   "execution_count": 39,
   "metadata": {},
   "outputs": [],
   "source": [
    "# Real testing!\n",
    "network_layer_0 = input_data\n",
    "network_layer_1 = activate(np.dot(network_layer_0, synaptic_weight_for_layer_0))\n",
    "network_layer_2 = activate(np.dot(network_layer_1, synaptic_weight_for_layer_1))"
   ]
  },
  {
   "cell_type": "code",
   "execution_count": 45,
   "metadata": {},
   "outputs": [
    {
     "data": {
      "text/plain": [
       "array([[  6.12078124e-04],\n",
       "       [  9.99378126e-01],\n",
       "       [  9.99463151e-01],\n",
       "       [  4.70690577e-04]])"
      ]
     },
     "execution_count": 45,
     "metadata": {},
     "output_type": "execute_result"
    }
   ],
   "source": [
    "network_layer_2"
   ]
  }
 ],
 "metadata": {
  "kernelspec": {
   "display_name": "Python 3",
   "language": "python",
   "name": "python3"
  },
  "language_info": {
   "codemirror_mode": {
    "name": "ipython",
    "version": 3
   },
   "file_extension": ".py",
   "mimetype": "text/x-python",
   "name": "python",
   "nbconvert_exporter": "python",
   "pygments_lexer": "ipython3",
   "version": "3.6.6"
  }
 },
 "nbformat": 4,
 "nbformat_minor": 2
}
