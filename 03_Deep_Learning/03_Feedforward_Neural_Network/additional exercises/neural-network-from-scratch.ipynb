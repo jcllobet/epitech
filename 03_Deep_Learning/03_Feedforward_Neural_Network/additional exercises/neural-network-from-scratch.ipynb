{
 "cells": [
  {
   "cell_type": "code",
   "execution_count": 1,
   "metadata": {},
   "outputs": [],
   "source": [
    "import numpy as np #linear algebra"
   ]
  },
  {
   "cell_type": "code",
   "execution_count": 2,
   "metadata": {},
   "outputs": [],
   "source": [
    "#Input Data\n",
    "input_data = np.array([[0, 0, 1], [1, 1, 1], [1, 0, 1], [0, 1, 1]])\n",
    "output_labels = np.array([[0, 1, 1, 0]]).T"
   ]
  },
  {
   "cell_type": "code",
   "execution_count": 3,
   "metadata": {},
   "outputs": [
    {
     "name": "stdout",
     "output_type": "stream",
     "text": [
      "[[0 0 1]\n",
      " [1 1 1]\n",
      " [1 0 1]\n",
      " [0 1 1]]\n",
      "[[0]\n",
      " [1]\n",
      " [1]\n",
      " [0]]\n"
     ]
    }
   ],
   "source": [
    "print(input_data)\n",
    "print(output_labels)"
   ]
  },
  {
   "cell_type": "code",
   "execution_count": 4,
   "metadata": {},
   "outputs": [],
   "source": [
    "def activate(x, deriv=False):\n",
    "    if (deriv==True):\n",
    "        return(x*(1-x))\n",
    "    return 1/(1+np.exp(-x))"
   ]
  },
  {
   "cell_type": "code",
   "execution_count": 7,
   "metadata": {},
   "outputs": [
    {
     "name": "stdout",
     "output_type": "stream",
     "text": [
      "[[-0.61409162]\n",
      " [-0.74875194]\n",
      " [ 0.4062854 ]]\n"
     ]
    }
   ],
   "source": [
    "#weight matrix\n",
    "synaptic_weights = 2 * np.random.random((3, 1)) - 1\n",
    "\n",
    "print(synaptic_weights)"
   ]
  },
  {
   "cell_type": "code",
   "execution_count": 8,
   "metadata": {},
   "outputs": [
    {
     "data": {
      "text/plain": [
       "array([[0.60019685],\n",
       "       [0.27756784],\n",
       "       [0.4482346 ],\n",
       "       [0.41521045]])"
      ]
     },
     "execution_count": 8,
     "metadata": {},
     "output_type": "execute_result"
    }
   ],
   "source": [
    "output = activate(np.dot(input_data, synaptic_weights))\n",
    "\n",
    "##This is our first guess\n",
    "output"
   ]
  },
  {
   "cell_type": "code",
   "execution_count": 9,
   "metadata": {},
   "outputs": [],
   "source": [
    "error = output_labels - output"
   ]
  },
  {
   "cell_type": "code",
   "execution_count": 10,
   "metadata": {},
   "outputs": [],
   "source": [
    "#example of iteration of training\n",
    "for iteration in range(10000):\n",
    "    output = activate(np.dot(input_data, synaptic_weights))\n",
    "    error = output_labels - output\n",
    "    synaptic_weights += np.dot(input_data.T, error * activate(output, True))"
   ]
  },
  {
   "cell_type": "code",
   "execution_count": 11,
   "metadata": {},
   "outputs": [
    {
     "name": "stdout",
     "output_type": "stream",
     "text": [
      "[0.99993702]\n"
     ]
    }
   ],
   "source": [
    "#testing example\n",
    "print(activate(np.dot(np.array([1, 0, 0]), synaptic_weights)))\n",
    "#Will be approximetly 1 which is close to the 1st element"
   ]
  },
  {
   "cell_type": "code",
   "execution_count": 12,
   "metadata": {},
   "outputs": [],
   "source": [
    "#2 weight values, 1 for each output layer that is used as an input layer in the neural network\n",
    "synaptic_weight_for_layer_0 = 2*np.random.random((3, 4)) - 1\n",
    "synaptic_weight_for_layer_1 = 2*np.random.random((4, 1)) - 1"
   ]
  },
  {
   "cell_type": "code",
   "execution_count": 13,
   "metadata": {},
   "outputs": [
    {
     "name": "stdout",
     "output_type": "stream",
     "text": [
      "[[ 0.81778825  0.85486314  0.56671767  0.66395905]\n",
      " [-0.21155296 -0.37610242  0.82961784  0.47900327]\n",
      " [-0.13754931  0.37418027 -0.08007347 -0.96701611]]\n",
      "[[-0.12492157]\n",
      " [ 0.67251512]\n",
      " [ 0.16502545]\n",
      " [ 0.30946658]]\n"
     ]
    }
   ],
   "source": [
    "print(synaptic_weight_for_layer_0)\n",
    "print(synaptic_weight_for_layer_1)"
   ]
  },
  {
   "cell_type": "code",
   "execution_count": 14,
   "metadata": {
    "scrolled": true
   },
   "outputs": [
    {
     "name": "stdout",
     "output_type": "stream",
     "text": [
      "Error: 0.48022968732074905\n",
      "Error: 0.004427173721817367\n",
      "Error: 0.00305063787137495\n",
      "Error: 0.0024588096356032924\n",
      "Error: 0.0021115890101118884\n",
      "Error: 0.0018771456470123597\n",
      "Error: 0.0017054484575699863\n",
      "Error: 0.0015728329951799334\n",
      "Error: 0.0014664782852052776\n",
      "Error: 0.0013787609028372413\n"
     ]
    }
   ],
   "source": [
    "#Real Training!\n",
    "for j in range(100000):\n",
    "    \n",
    "    #Forward Propagation through the network layers 0, 1, & 2\n",
    "    network_layer_0 = input_data\n",
    "    # 4, 3\n",
    "    network_layer_1 = activate(np.dot(network_layer_0, synaptic_weight_for_layer_0))\n",
    "    #4, 4                                #4,3               #3,4\n",
    "    network_layer_2 = activate(np.dot(network_layer_1, synaptic_weight_for_layer_1))\n",
    "    #4,1                                 #4,4               #4,1\n",
    "    \n",
    "    #calculate the error for network_layer_2\n",
    "    network_layer_2_error = output_labels - network_layer_2\n",
    "    #4,1                        #4,1            #4,1\n",
    "    \n",
    "    if j % 10000 == 0:\n",
    "        print(\"Error: \" + str(np.mean(np.abs(network_layer_2_error))))\n",
    "        \n",
    "    #Use the network_layer_2_error to compute the gradient to start backpropagation\n",
    "    layer_2_gradient = network_layer_2_error * activate(network_layer_2, deriv=True)\n",
    "    #4,1                    #4,1                  #4,1\n",
    "    \n",
    "    #calculate the error for network_layer_1\n",
    "    network_layer_1_error = layer_2_gradient.dot(synaptic_weight_for_layer_1.T)\n",
    "    #4,4                      #4,1                  #1,4\n",
    "    \n",
    "    #Use the network_layer_1_error to compute the gradient for network_layer_1\n",
    "    layer_1_gradient = network_layer_1_error * activate(network_layer_1, deriv=True)\n",
    "    #4,4                  #4,4                      #4,4\n",
    "    \n",
    "    #Update the synaptic weights using the gradients\n",
    "    synaptic_weight_for_layer_1 += network_layer_1.T.dot(layer_2_gradient)\n",
    "    #4,1                              #4,4                 #4,1\n",
    "    synaptic_weight_for_layer_0 += network_layer_0.T.dot(layer_1_gradient)\n",
    "    #3,4                              #4,3                 #4,4\n",
    "    "
   ]
  },
  {
   "cell_type": "code",
   "execution_count": 15,
   "metadata": {},
   "outputs": [
    {
     "name": "stdout",
     "output_type": "stream",
     "text": [
      "Error: 0.5022857762732069\n",
      "Error: 0.0043978172554067566\n",
      "Error: 0.0030506199489646825\n",
      "Error: 0.002468090359593145\n",
      "Error: 0.0021250777888578033\n",
      "Error: 0.001892859799345653\n",
      "Error: 0.0017224385522338075\n",
      "Error: 0.0015905845699478883\n",
      "Error: 0.0014846887298173512\n",
      "Error: 0.001397241618282188\n"
     ]
    }
   ],
   "source": [
    "synaptic_weight_for_layer_0 = 2*np.random.random((3, 4)) - 1\n",
    "synaptic_weight_for_layer_1 = 2*np.random.random((4, 4)) - 1\n",
    "synaptic_weight_for_layer_2 = 2*np.random.random((4, 1)) - 1\n",
    "#Real Training!\n",
    "for j in range(100000):\n",
    "    \n",
    "    #Forward Propagation through the network layers 0, 1, & 2\n",
    "    network_layer_0 = input_data\n",
    "            # 4, 3\n",
    "    network_layer_1 = activate(np.dot(network_layer_0, synaptic_weight_for_layer_0))\n",
    "            #4,4           #             4,3              3, 4   \n",
    "    network_layer_2 = activate(np.dot(network_layer_1, synaptic_weight_for_layer_1))\n",
    "            #4, 4            #              4, 4             5, 4  \n",
    "    network_layer_3 = activate(np.dot(network_layer_2, synaptic_weight_for_layer_2))\n",
    "             #4, 1          #               4 ,  4             4, 1\n",
    "    \n",
    "    network_layer_3_error = output_labels - network_layer_3\n",
    "    \n",
    "    layer_3_gradient = network_layer_3_error * activate(network_layer_3, deriv=True)\n",
    "    \n",
    "    #calculate the error for network_layer_2\n",
    "    network_layer_2_error = layer_3_gradient.dot(synaptic_weight_for_layer_2.T)\n",
    "    \n",
    "    if j % 10000 == 0:\n",
    "        print(\"Error: \" + str(np.mean(np.abs(network_layer_3_error))))\n",
    "        \n",
    "    #Use the network_layer_2_error to compute the gradient to start backpropagation\n",
    "    layer_2_gradient = network_layer_2_error * activate(network_layer_2, deriv=True)\n",
    "    \n",
    "    #calculate the error for network_layer_1\n",
    "    network_layer_1_error = layer_2_gradient.dot(synaptic_weight_for_layer_1.T)\n",
    "    \n",
    "    #Use the network_layer_1_error to compute the gradient for network_layer_1\n",
    "    layer_1_gradient = network_layer_1_error * activate(network_layer_1, deriv=True)\n",
    "    \n",
    "    #Update the synaptic weights using the gradients\n",
    "    synaptic_weight_for_layer_2 += network_layer_2.T.dot(layer_3_gradient)\n",
    "    synaptic_weight_for_layer_1 += network_layer_1.T.dot(layer_2_gradient)\n",
    "    synaptic_weight_for_layer_0 += network_layer_0.T.dot(layer_1_gradient)\n",
    "    \n",
    "    "
   ]
  },
  {
   "cell_type": "code",
   "execution_count": 16,
   "metadata": {},
   "outputs": [
    {
     "name": "stdout",
     "output_type": "stream",
     "text": [
      "[ 0.91002613  1.64719341 -1.098692   -1.83607419]\n"
     ]
    }
   ],
   "source": [
    "# Real testing!\n",
    "print(np.dot(np.array([0, 0, 1]), synaptic_weight_for_layer_0))"
   ]
  },
  {
   "cell_type": "code",
   "execution_count": 17,
   "metadata": {},
   "outputs": [
    {
     "data": {
      "text/plain": [
       "array([[0.009672  ],\n",
       "       [0.992115  ],\n",
       "       [0.99359181],\n",
       "       [0.00786314]])"
      ]
     },
     "execution_count": 17,
     "metadata": {},
     "output_type": "execute_result"
    }
   ],
   "source": [
    "# Real testing!\n",
    "input_data2 = np.array([[0, 0, 1], [1, 1, 1], [1, 0, 1], [0, 1, 1]])\n",
    "output = activate(np.dot(input_data2, synaptic_weights))\n",
    "output"
   ]
  },
  {
   "cell_type": "code",
   "execution_count": 18,
   "metadata": {},
   "outputs": [],
   "source": [
    "# Real testing!\n",
    "network_layer_0 = input_data\n",
    "network_layer_1 = activate(np.dot(network_layer_0, synaptic_weight_for_layer_0))\n",
    "network_layer_2 = activate(np.dot(network_layer_1, synaptic_weight_for_layer_1))"
   ]
  },
  {
   "cell_type": "code",
   "execution_count": 19,
   "metadata": {},
   "outputs": [
    {
     "data": {
      "text/plain": [
       "array([[0.07249043, 0.96175782, 0.1723786 , 0.14259664],\n",
       "       [0.91621729, 0.04535798, 0.77719936, 0.79594133],\n",
       "       [0.92248722, 0.03798777, 0.7796018 , 0.80508792],\n",
       "       [0.06662148, 0.96833101, 0.16985724, 0.1353103 ]])"
      ]
     },
     "execution_count": 19,
     "metadata": {},
     "output_type": "execute_result"
    }
   ],
   "source": [
    "network_layer_2"
   ]
  },
  {
   "cell_type": "code",
   "execution_count": null,
   "metadata": {},
   "outputs": [],
   "source": []
  }
 ],
 "metadata": {
  "kernelspec": {
   "display_name": "Python 3",
   "language": "python",
   "name": "python3"
  },
  "language_info": {
   "codemirror_mode": {
    "name": "ipython",
    "version": 3
   },
   "file_extension": ".py",
   "mimetype": "text/x-python",
   "name": "python",
   "nbconvert_exporter": "python",
   "pygments_lexer": "ipython3",
   "version": "3.6.5"
  }
 },
 "nbformat": 4,
 "nbformat_minor": 2
}
