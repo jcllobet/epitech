{
 "cells": [
  {
   "cell_type": "code",
   "execution_count": 1,
   "metadata": {},
   "outputs": [],
   "source": [
    "#Dependencies\n",
    "import numpy as np"
   ]
  },
  {
   "cell_type": "code",
   "execution_count": 2,
   "metadata": {},
   "outputs": [
    {
     "name": "stdout",
     "output_type": "stream",
     "text": [
      "[[0 0 1]\n",
      " [1 1 1]\n",
      " [1 0 1]\n",
      " [0 1 1]]\n",
      "[[0]\n",
      " [1]\n",
      " [1]\n",
      " [0]]\n"
     ]
    }
   ],
   "source": [
    "#Input Data\n",
    "input_data = np.array([[0, 0, 1], [1, 1, 1], [1, 0, 1], [0, 1, 1]])\n",
    "output_labels = np.array([[0, 1, 1, 0]]).T\n",
    "\n",
    "print(input_data)\n",
    "print(output_labels)"
   ]
  },
  {
   "cell_type": "code",
   "execution_count": 3,
   "metadata": {},
   "outputs": [],
   "source": [
    "#Sigmoid Activation Function\n",
    "def activate(x, deriv=False):\n",
    "    if (deriv==True):\n",
    "        return x*(1-x)\n",
    "    return 1/(1+np.exp(-x))"
   ]
  },
  {
   "cell_type": "code",
   "execution_count": 4,
   "metadata": {},
   "outputs": [
    {
     "name": "stdout",
     "output_type": "stream",
     "text": [
      "[[-0.32189098]\n",
      " [-0.45614083]\n",
      " [-0.92735386]]\n"
     ]
    }
   ],
   "source": [
    "#weight matrix\n",
    "synaptic_weights = 2 * np.random.random((3, 1)) - 1\n",
    "\n",
    "print(synaptic_weights)"
   ]
  },
  {
   "cell_type": "code",
   "execution_count": 5,
   "metadata": {},
   "outputs": [
    {
     "name": "stdout",
     "output_type": "stream",
     "text": [
      "[[0.28346187]\n",
      " [0.15376317]\n",
      " [0.22283089]\n",
      " [0.20044832]]\n"
     ]
    }
   ],
   "source": [
    "##output for a layer in the neural network example\n",
    "print(activate(np.dot(input_data, synaptic_weights)))"
   ]
  },
  {
   "cell_type": "code",
   "execution_count": 6,
   "metadata": {},
   "outputs": [
    {
     "name": "stdout",
     "output_type": "stream",
     "text": [
      "[[-0.28346187]\n",
      " [ 0.84623683]\n",
      " [ 0.77716911]\n",
      " [-0.20044832]]\n",
      "\n",
      "[[0 1 1 0]\n",
      " [0 1 0 1]\n",
      " [1 1 1 1]]\n",
      "\n",
      "[[-0.05757429]\n",
      " [ 0.11011239]\n",
      " [ 0.13458804]\n",
      " [-0.03212561]]\n"
     ]
    }
   ],
   "source": [
    "#training example\n",
    "output = activate(np.dot(input_data, synaptic_weights))\n",
    "error = output_labels - output\n",
    "\n",
    "synaptic_weights += np.dot(input_data.T, error * activate(output, True)) #Gradient Descent\n",
    "\n",
    "print(error)\n",
    "print(\"\")\n",
    "print(input_data.T)\n",
    "print(\"\")\n",
    "print(error * activate(output, True))"
   ]
  },
  {
   "cell_type": "code",
   "execution_count": 7,
   "metadata": {},
   "outputs": [],
   "source": [
    "#example of iteration of training\n",
    "for iteration in range(10000):\n",
    "    output = activate(np.dot(input_data, synaptic_weights))\n",
    "    error = output_labels - output\n",
    "    synaptic_weights += np.dot(input_data.T, error * activate(output, True))"
   ]
  },
  {
   "cell_type": "code",
   "execution_count": 8,
   "metadata": {},
   "outputs": [
    {
     "name": "stdout",
     "output_type": "stream",
     "text": [
      "[0.99993704]\n"
     ]
    }
   ],
   "source": [
    "#testing example\n",
    "print(activate(np.dot(np.array([1, 0, 0]), synaptic_weights))) \n",
    "#Will be approximetly 1 which is close to the 1st element"
   ]
  },
  {
   "cell_type": "code",
   "execution_count": 9,
   "metadata": {},
   "outputs": [
    {
     "name": "stdout",
     "output_type": "stream",
     "text": [
      "[[-0.91220755  0.88497841 -0.51177945  0.75551023]\n",
      " [ 0.15480081 -0.88583977 -0.26611826  0.94485993]\n",
      " [ 0.02448992 -0.14575077 -0.24933606 -0.84971329]]\n",
      "[[0.696956  ]\n",
      " [0.97778092]\n",
      " [0.64851122]\n",
      " [0.14675781]]\n"
     ]
    }
   ],
   "source": [
    "#2 weight values, 1 for each output layer that is used as an input layer in the neural network\n",
    "synaptic_weight_for_layer_0 = 2*np.random.random((3, 4)) - 1\n",
    "synaptic_weight_for_layer_1 = 2*np.random.random((4, 1)) - 1\n",
    "\n",
    "print(synaptic_weight_for_layer_0)\n",
    "print(synaptic_weight_for_layer_1)"
   ]
  },
  {
   "cell_type": "code",
   "execution_count": 10,
   "metadata": {},
   "outputs": [
    {
     "name": "stdout",
     "output_type": "stream",
     "text": [
      "Error: 0.4998031089091461\n",
      "Error: 0.00474680959569087\n",
      "Error: 0.0032704695268786594\n",
      "Error: 0.002634858640251428\n",
      "Error: 0.0022618003272018737\n",
      "Error: 0.002009878747162558\n",
      "Error: 0.001825378162972107\n",
      "Error: 0.0016828790876120129\n",
      "Error: 0.0015686056348860758\n",
      "Error: 0.0014743650240043684\n"
     ]
    }
   ],
   "source": [
    "#Real Training!\n",
    "for j in range(100000):\n",
    "    \n",
    "    #Forward Propagation through the network layers 0, 1, & 2\n",
    "    network_layer_0 = input_data\n",
    "    network_layer_1 = activate(np.dot(network_layer_0, synaptic_weight_for_layer_0))\n",
    "    network_layer_2 = activate(np.dot(network_layer_1, synaptic_weight_for_layer_1))\n",
    "    \n",
    "    #calculate the error for network_layer_2\n",
    "    network_layer_2_error = output_labels - network_layer_2\n",
    "    \n",
    "    if j % 10000 == 0:\n",
    "        print(\"Error: \" + str(np.mean(np.abs(network_layer_2_error))))\n",
    "    \n",
    "    #Use the network_layer_2_error to compute the gradient to start backpropagation\n",
    "    layer_2_gradient = network_layer_2_error * activate(network_layer_2, deriv=True)\n",
    "    \n",
    "    #calculate the error for network_layer_1\n",
    "    network_layer_1_error = layer_2_gradient.dot(synaptic_weight_for_layer_1.T)\n",
    "    \n",
    "    #Use the network_layer_1_error to compute the gradient for network_layer_1\n",
    "    layer_1_gradient = network_layer_1_error * activate(network_layer_1, deriv=True)\n",
    "    \n",
    "    #Update the synaptic weights using the gradients\n",
    "    synaptic_weight_for_layer_1 += network_layer_1.T.dot(layer_2_gradient)\n",
    "    synaptic_weight_for_layer_0 += network_layer_0.T.dot(layer_1_gradient)"
   ]
  },
  {
   "cell_type": "code",
   "execution_count": 11,
   "metadata": {},
   "outputs": [
    {
     "name": "stdout",
     "output_type": "stream",
     "text": [
      "[ 1.85792063 -1.92986582  0.97842644 -1.08819976]\n"
     ]
    }
   ],
   "source": [
    "# Real testing!\n",
    "print(np.dot(np.array([0, 0, 1]), synaptic_weight_for_layer_0))"
   ]
  },
  {
   "cell_type": "code",
   "execution_count": null,
   "metadata": {
    "collapsed": true
   },
   "outputs": [],
   "source": []
  }
 ],
 "metadata": {
  "kernelspec": {
   "display_name": "Python 3",
   "language": "python",
   "name": "python3"
  },
  "language_info": {
   "codemirror_mode": {
    "name": "ipython",
    "version": 3
   },
   "file_extension": ".py",
   "mimetype": "text/x-python",
   "name": "python",
   "nbconvert_exporter": "python",
   "pygments_lexer": "ipython3",
   "version": "3.6.5"
  }
 },
 "nbformat": 4,
 "nbformat_minor": 2
}
